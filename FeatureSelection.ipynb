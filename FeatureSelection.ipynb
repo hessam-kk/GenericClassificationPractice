{
 "cells": [
  {
   "cell_type": "code",
   "execution_count": 1,
   "metadata": {},
   "outputs": [],
   "source": [
    "from mlxtend.feature_selection import SequentialFeatureSelector as SFS\n",
    "import pandas as pd\n",
    "import numpy as np\n",
    "from sklearn.model_selection import train_test_split\n",
    "from sklearn.preprocessing import StandardScaler\n",
    "# Load Dataset\n",
    "data = pd.read_csv('Dataset/wine.csv')\n",
    "L = data.iloc[:, -1]\n",
    "L = list(L)\n",
    "L = np.asarray(list(L))\n",
    "X = data.iloc[:, 1:-1]\n",
    "columns = list(X.columns)\n",
    "# Split Into Training & Test\n",
    "X_train, X_test, L_train, L_test = train_test_split(X, L, test_size=0.3)\n",
    "\n",
    "# Standardization\n",
    "sc = StandardScaler()\n",
    "X_train = sc.fit_transform(X_train)\n",
    "X_test = sc.transform(X_test)\n"
   ]
  },
  {
   "cell_type": "code",
   "execution_count": 2,
   "metadata": {},
   "outputs": [
    {
     "name": "stdout",
     "output_type": "stream",
     "text": [
      "Testing Result for 2 Features\n",
      "Testing Result for 3 Features\n",
      "Testing Result for 4 Features\n",
      "Testing Result for 5 Features\n",
      "Testing Result for 6 Features\n",
      "Testing Result for 7 Features\n",
      "Testing Result for 8 Features\n",
      "Testing Result for 9 Features\n",
      "Testing Result for 10 Features\n",
      "Testing Result for 11 Features\n"
     ]
    }
   ],
   "source": [
    "from sklearn.neighbors import KNeighborsClassifier\n",
    "knn = KNeighborsClassifier(n_neighbors=3)\n",
    "compare_list = []\n",
    "for i in range(2, 12):\n",
    "    print('Testing Result for', i, 'Features')\n",
    "    sfs1 = SFS(knn,\n",
    "            k_features=i,\n",
    "            forward=True,\n",
    "            scoring='accuracy',\n",
    "            cv=5)\n",
    "    sfs1 = sfs1.fit(X_train, L_train)\n",
    "    result = sfs1.subsets_\n",
    "    compare_list.append((i,\n",
    "                         list(result.items())[-1][1]['avg_score'],\n",
    "                         list(result.items())[-1][1]['feature_names']))\n"
   ]
  },
  {
   "cell_type": "code",
   "execution_count": 3,
   "metadata": {},
   "outputs": [
    {
     "name": "stdout",
     "output_type": "stream",
     "text": [
      "best result meets on: (7, 0.9931822193208332, ('2', '3', '5', '6', '7', '8', '9'))\n"
     ]
    },
    {
     "data": {
      "image/png": "[encoded data removed]",
      "text/plain": [
       "<Figure size 432x288 with 1 Axes>"
      ]
     },
     "metadata": {
      "needs_background": "light"
     },
     "output_type": "display_data"
    }
   ],
   "source": [
    "from matplotlib import pyplot as plt\n",
    "sorted_list = sorted(compare_list, key=lambda x: x[1], reverse=True)\n",
    "print('best result meets on:', sorted_list[0])\n",
    "\n",
    "fig, ax = plt.subplots()\n",
    "ax.bar([i[0] for i in sorted_list],\n",
    "       [i[1]*100 for i in sorted_list],\n",
    "       width=1,\n",
    "       color='r',\n",
    "       align='center',\n",
    "       alpha=0.8,\n",
    "       edgecolor='black')\n",
    "ax.set_yscale('log')\n",
    "# plt.grid(True)\n",
    "_ = plt.xticks(np.arange(2, 12))\n",
    "plt.show()\n"
   ]
  }
 ],
 "metadata": {
  "kernelspec": {
   "display_name": "Python 3.10.2 64-bit",
   "language": "python",
   "name": "python3"
  },
  "language_info": {
   "codemirror_mode": {
    "name": "ipython",
    "version": 3
   },
   "file_extension": ".py",
   "mimetype": "text/x-python",
   "name": "python",
   "nbconvert_exporter": "python",
   "pygments_lexer": "ipython3",
   "version": "3.10.2"
  },
  "orig_nbformat": 4,
  "vscode": {
   "interpreter": {
    "hash": "fc1e34865f3cbba7546eb6e906e9f501accc9008c34bc9dfa10f84cb0ede16fe"
   }
  }
 },
 "nbformat": 4,
 "nbformat_minor": 2
}
